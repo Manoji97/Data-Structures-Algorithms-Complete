{
 "cells": [
  {
   "cell_type": "code",
   "execution_count": 474,
   "metadata": {},
   "outputs": [],
   "source": [
    "class Node(object):\n",
    "\tdef __init__(self, val):\n",
    "\t\tself.val = val\n",
    "\t\tself.left = None\n",
    "\t\tself.right = None\n",
    "\n",
    "\tdef __str__(self):\n",
    "\t\treturn str(self.val)\n",
    "\t\t\n",
    "\n",
    "class BinarySearchTree(object):\n",
    "\tdef __init__(self):\n",
    "\t\tself.root = None\n",
    "\t\tself.totalNodes = 0\n",
    "\n",
    "\n",
    "\tdef insert(self, val):\n",
    "\t\tnew_node = Node(val)\n",
    "\n",
    "\t\tif not self.root:\n",
    "\t\t\tself.root = new_node\n",
    "\t\telse:\n",
    "\t\t\tnode = self.root\n",
    "\n",
    "\t\t\twhile True:\n",
    "\t\t\t\tif node.val == val: return False\n",
    "\n",
    "\t\t\t\tif val < node.val:\n",
    "\t\t\t\t\tif not node.left:\n",
    "\t\t\t\t\t\tnode.left = new_node\n",
    "\t\t\t\t\t\tbreak\n",
    "\t\t\t\t\telse: node = node.left\n",
    "\t\t\t\tif val > node.val:\n",
    "\t\t\t\t\tif not node.right:\n",
    "\t\t\t\t\t\tnode.right = new_node\n",
    "\t\t\t\t\t\tbreak\n",
    "\t\t\t\t\telse: node = node.right\n",
    "\n",
    "\t\tself.totalNodes += 1 \n",
    "\t\treturn True\n",
    "\n",
    "\n",
    "\tdef contains(self, val):\n",
    "\t\tif not self.root: return False\n",
    "\t\tnode = self.root\n",
    "\n",
    "\t\twhile node:\n",
    "\t\t\tif node.val == val:return True\n",
    "\t\t\tif val < node.val:\n",
    "\t\t\t\tnode = node.left\n",
    "\t\t\telse:\n",
    "\t\t\t\tnode = node.right\n",
    "\n",
    "\t\treturn False\n",
    "\t\t\n",
    "\n",
    "\tdef breadthFirst(self):\n",
    "\t\tif not self.root: return False\n",
    "\t\tqueue = [self.root]\n",
    "\t\toutput = []\n",
    "\n",
    "\t\twhile len(queue) != 0:\n",
    "\t\t\tnode = queue.pop(0)\n",
    "\t\t\toutput.append(node.val)\n",
    "\n",
    "\t\t\tif node.left: queue.append(node.left)\n",
    "\t\t\tif node.right: queue.append(node.right)\n",
    "\n",
    "\t\treturn output\n",
    "\n",
    "\tdef breadthFirstRecursive(self):\n",
    "\t\tif not self.root: return False\n",
    "\t\tqueue = [self.root]\n",
    "\n",
    "\t\tdef BFS(queue, output= []):\n",
    "\t\t\tif len(queue) == 0: return output\n",
    "\n",
    "\t\t\tnode = queue.pop(0)\n",
    "\n",
    "\t\t\toutput.append(node.val)\n",
    "\n",
    "\t\t\tif node.left: queue.append(node.left)\n",
    "\t\t\tif node.right: queue.append(node.right)\n",
    "\n",
    "\t\t\treturn BFS(queue, output)\n",
    "\n",
    "\t\treturn BFS(queue)\n",
    "\n",
    "\n",
    "\tdef depthFirstPreOrder(self):\n",
    "\t\tdef DFSpreOrder(node = self.root, output=[]):\n",
    "\t\t\tif not node: return output\n",
    "\n",
    "\t\t\toutput.append(node.val)\n",
    "\n",
    "\t\t\tif node.left: return DFSpreOrder(node.left, output)\n",
    "\t\t\tif node.right: return DFSpreOrder(node.right, output)\n",
    "\n",
    "\t\treturn DFSpreOrder()\n",
    "\n",
    "\tdef depthFirstPostOrder(self):\n",
    "\t\toutput = []\n",
    "\t\tdef DFSPostOrder(node =self.root):\n",
    "\t\t\tif not node: return \n",
    "\n",
    "\t\t\tif node.left: return DFSPostOrder(node.left)\n",
    "\t\t\tif node.right: return DFSPostOrder(node.right)\n",
    "\t\t\toutput.append(node.val)\n",
    "\n",
    "\t\treturn output\n",
    "\n",
    "\tdef depthFirstInOrder(self):\n",
    "\t\toutput = []\n",
    "\t\tdef DFSInorder(node = self.root):\n",
    "            print(output)\n",
    "\t\t\tif node.left: return DFSInorder(node.left)\n",
    "\t\t\toutput.append(node.val)\n",
    "\t\t\tif node.right: return DFSInorder(node.right)\n",
    "\t\t\t\n",
    "\t\treturn output\n",
    "\n",
    "\n",
    "\n",
    "\n",
    "\n",
    "\t\t"
   ]
  },
  {
   "cell_type": "code",
   "execution_count": 475,
   "metadata": {},
   "outputs": [],
   "source": [
    "BST = BinarySearchTree()"
   ]
  },
  {
   "cell_type": "code",
   "execution_count": 476,
   "metadata": {},
   "outputs": [
    {
     "data": {
      "text/plain": [
       "True"
      ]
     },
     "execution_count": 476,
     "metadata": {},
     "output_type": "execute_result"
    }
   ],
   "source": [
    "BST.insert(10)\n",
    "BST.insert(5)\n",
    "BST.insert(7)\n",
    "BST.insert(12)\n",
    "BST.insert(11)\n",
    "BST.insert(13)"
   ]
  },
  {
   "cell_type": "code",
   "execution_count": 477,
   "metadata": {},
   "outputs": [
    {
     "data": {
      "text/plain": [
       "[10, 5, 12, 7, 11, 13]"
      ]
     },
     "execution_count": 477,
     "metadata": {},
     "output_type": "execute_result"
    }
   ],
   "source": [
    "BST.breadthFirstRecursive()"
   ]
  },
  {
   "cell_type": "code",
   "execution_count": 478,
   "metadata": {},
   "outputs": [
    {
     "data": {
      "text/plain": [
       "[]"
      ]
     },
     "execution_count": 478,
     "metadata": {},
     "output_type": "execute_result"
    }
   ],
   "source": [
    "BST.depthFirstInOrder()"
   ]
  },
  {
   "cell_type": "code",
   "execution_count": null,
   "metadata": {},
   "outputs": [],
   "source": [
    "    "
   ]
  }
 ],
 "metadata": {
  "kernelspec": {
   "display_name": "Python 3",
   "language": "python",
   "name": "python3"
  },
  "language_info": {
   "codemirror_mode": {
    "name": "ipython",
    "version": 3
   },
   "file_extension": ".py",
   "mimetype": "text/x-python",
   "name": "python",
   "nbconvert_exporter": "python",
   "pygments_lexer": "ipython3",
   "version": "3.6.9"
  }
 },
 "nbformat": 4,
 "nbformat_minor": 2
}
