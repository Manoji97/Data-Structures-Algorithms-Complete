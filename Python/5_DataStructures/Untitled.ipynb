{
 "cells": [
  {
   "cell_type": "code",
   "execution_count": 293,
   "metadata": {},
   "outputs": [],
   "source": [
    "import math"
   ]
  },
  {
   "cell_type": "code",
   "execution_count": 369,
   "metadata": {},
   "outputs": [],
   "source": [
    "import math\n",
    "def getDigitAtIndex(num, digit):\n",
    "\treturn math.floor(abs(num) / math.pow(10, digit)) % 10;\n",
    "\n",
    "def getNumDigits(num):\n",
    "\tif num == 0: return 0\n",
    "\treturn math.floor(math.log10(num)) + 1\n",
    "\n",
    "def getMaxNumDigits(lst):\n",
    "\tmax_digits = -1\n",
    "\tfor i in lst:\n",
    "\t\tmax_digits = max(max_digits, getNumDigits(i))\n",
    "\treturn max_digits\n",
    "\n",
    "def RadixSort(lst):\n",
    "\tmax_digits = getMaxNumDigits(lst)\n",
    "\n",
    "\tfor i in range(1):\n",
    "\t\tBUCKETS = [[], [], [], [], [], [], [], [], [], []]\n",
    "\t\tfor value in lst:\n",
    "\t\t\tBUCKETS[getDigitAtIndex(value, i)].append(value)\n",
    "\n",
    "\t\tprint(BUCKETS)\n",
    "\n",
    "\t\t\n",
    "\n",
    "\n"
   ]
  },
  {
   "cell_type": "code",
   "execution_count": 370,
   "metadata": {},
   "outputs": [
    {
     "name": "stdout",
     "output_type": "stream",
     "text": [
      "[[0], [], [2], [3, 3], [34], [5, 45], [], [7], [68], []]\n"
     ]
    }
   ],
   "source": [
    "RadixSort([5,3,68,34,7,45,3,2,0])"
   ]
  },
  {
   "cell_type": "code",
   "execution_count": 368,
   "metadata": {},
   "outputs": [
    {
     "data": {
      "text/plain": [
       "5"
      ]
     },
     "execution_count": 368,
     "metadata": {},
     "output_type": "execute_result"
    }
   ],
   "source": [
    "getDigitAtIndex(5, 0)"
   ]
  },
  {
   "cell_type": "code",
   "execution_count": 354,
   "metadata": {},
   "outputs": [
    {
     "data": {
      "text/plain": [
       "30"
      ]
     },
     "execution_count": 354,
     "metadata": {},
     "output_type": "execute_result"
    }
   ],
   "source": [
    "getMaxNumDigits([[5,3,68,34,7,45,3,2,0]])"
   ]
  },
  {
   "cell_type": "code",
   "execution_count": 361,
   "metadata": {},
   "outputs": [
    {
     "data": {
      "text/plain": [
       "2"
      ]
     },
     "execution_count": 361,
     "metadata": {},
     "output_type": "execute_result"
    }
   ],
   "source": [
    "getNumDigits(65)"
   ]
  }
 ],
 "metadata": {
  "kernelspec": {
   "display_name": "Python 3",
   "language": "python",
   "name": "python3"
  },
  "language_info": {
   "codemirror_mode": {
    "name": "ipython",
    "version": 3
   },
   "file_extension": ".py",
   "mimetype": "text/x-python",
   "name": "python",
   "nbconvert_exporter": "python",
   "pygments_lexer": "ipython3",
   "version": "3.6.9"
  }
 },
 "nbformat": 4,
 "nbformat_minor": 2
}
