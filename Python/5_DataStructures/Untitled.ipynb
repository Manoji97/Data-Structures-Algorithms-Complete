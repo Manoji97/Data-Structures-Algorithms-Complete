{
 "cells": [
  {
   "cell_type": "code",
   "execution_count": 638,
   "metadata": {},
   "outputs": [],
   "source": [
    "class Node(object):\n",
    "\tdef __init__(self, val, priority):\n",
    "\t\tself.val = val\n",
    "\t\tself.priority = priority\n",
    "\n",
    "\tdef __str__(self):\n",
    "\t\treturn f'{self.val}-{self.priority}'\n",
    "\n",
    "\tdef __repr__(self):\n",
    "\t\treturn f'{self.val}-{self.priority}'\n",
    "\t\t\n",
    "\n",
    "class PriorityQueue(object):\n",
    "\tdef __init__(self):\n",
    "\t\tself.queue = []\n",
    "\n",
    "\tdef enqueue(self, val, priority):\n",
    "\t\tif len(self.queue) == 0:\n",
    "\t\t\treturn self.queue.append(Node(val, priority)) != False\n",
    "\n",
    "\t\tself.queue.append(Node(val, priority))\n",
    "\n",
    "\t\tchild_idx = len(self.queue) - 1\n",
    "\n",
    "\t\twhile child_idx > 0:\n",
    "\t\t\tparent_idx = math.floor((child_idx-1)/2)\n",
    "\t\t\tchild = self.queue[child_idx]\n",
    "\t\t\tparent = self.queue[parent_idx]\n",
    "\n",
    "\t\t\tif parent.priority <= child.priority: break\n",
    "\n",
    "\t\t\tself.queue[parent_idx], self.queue[child_idx] = self.queue[child_idx], self.queue[parent_idx]\n",
    "\n",
    "\t\t\tchild_idx = parent_idx\n",
    "\n",
    "\t\treturn True\n",
    "\n",
    "\tdef dequque(self):\n",
    "\t\tif len(self.queue) == 0: return False\n",
    "\n",
    "\t\tnew_root = self.queue.pop()\n",
    "\t\tif len(self.queue) == 0: return new_root\n",
    "\t\tmax_value = self.queue[0]\n",
    "\t\tself.queue[0] = new_root\n",
    "\t\tlength = len(self.queue)\n",
    "\n",
    "\t\tparent_idx = 0\n",
    "\t\tleft_idx, right_idx = 1, 2\n",
    "\t\tnew_idx = 0\n",
    "\n",
    "\t\twhile True:\n",
    "\t\t\tparent = self.queue[parent_idx]\n",
    "\n",
    "\t\t\tif left_idx >= length: break\n",
    "\t\t\tleft = self.queue[left_idx]\n",
    "\t\t\tif(left.priority < parent.priority):\n",
    "\t\t\t\tnew_idx = left_idx\n",
    "\n",
    "\t\t\tif right_idx >= length: break\n",
    "\t\t\tright = self.queue[right_idx]\n",
    "\t\t\tif(right.priority < left.priority and right.priority < parent.priority):\n",
    "\t\t\t\tnew_idx = right_idx\n",
    "\n",
    "\t\t\tif new_idx == parent_idx: break\n",
    "\n",
    "\t\t\tself.queue[new_idx], self.queue[parent_idx] = self.queue[parent_idx], self.queue[new_idx]\n",
    "\n",
    "\t\t\tparent_idx = new_idx\n",
    "\t\t\tleft_idx = (2 * parent_idx) + 1\n",
    "\t\t\tright_idx = (2 * parent_idx) + 2\n",
    "\n",
    "\t\treturn max_value\n",
    "\n",
    "\t\t"
   ]
  },
  {
   "cell_type": "code",
   "execution_count": 639,
   "metadata": {},
   "outputs": [],
   "source": [
    "PQ = PriorityQueue()"
   ]
  },
  {
   "cell_type": "code",
   "execution_count": 671,
   "metadata": {},
   "outputs": [
    {
     "data": {
      "text/plain": [
       "True"
      ]
     },
     "execution_count": 671,
     "metadata": {},
     "output_type": "execute_result"
    }
   ],
   "source": [
    "PQ.enqueue(10, 1)\n",
    "PQ.enqueue(10, 11)\n",
    "PQ.enqueue(10, 10)\n",
    "PQ.enqueue(10, 5)\n",
    "PQ.enqueue(10, 9)\n",
    "PQ.enqueue(10, 3)\n",
    "PQ.enqueue(10, 12)"
   ]
  },
  {
   "cell_type": "code",
   "execution_count": 672,
   "metadata": {},
   "outputs": [
    {
     "data": {
      "text/plain": [
       "[10-1, 10-5, 10-3, 10-11, 10-10, 10-11, 10-9, 10-12]"
      ]
     },
     "execution_count": 672,
     "metadata": {},
     "output_type": "execute_result"
    }
   ],
   "source": [
    "PQ.queue"
   ]
  },
  {
   "cell_type": "code",
   "execution_count": 685,
   "metadata": {},
   "outputs": [
    {
     "data": {
      "text/plain": [
       "10-11"
      ]
     },
     "execution_count": 685,
     "metadata": {},
     "output_type": "execute_result"
    }
   ],
   "source": [
    "PQ.dequque()"
   ]
  },
  {
   "cell_type": "code",
   "execution_count": 686,
   "metadata": {},
   "outputs": [
    {
     "data": {
      "text/plain": [
       "[10-12]"
      ]
     },
     "execution_count": 686,
     "metadata": {},
     "output_type": "execute_result"
    }
   ],
   "source": [
    "PQ.queue"
   ]
  },
  {
   "cell_type": "code",
   "execution_count": null,
   "metadata": {},
   "outputs": [],
   "source": []
  }
 ],
 "metadata": {
  "kernelspec": {
   "display_name": "Python 3",
   "language": "python",
   "name": "python3"
  },
  "language_info": {
   "codemirror_mode": {
    "name": "ipython",
    "version": 3
   },
   "file_extension": ".py",
   "mimetype": "text/x-python",
   "name": "python",
   "nbconvert_exporter": "python",
   "pygments_lexer": "ipython3",
   "version": "3.6.9"
  }
 },
 "nbformat": 4,
 "nbformat_minor": 2
}
