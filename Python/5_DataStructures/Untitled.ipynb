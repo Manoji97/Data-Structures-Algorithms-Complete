{
 "cells": [
  {
   "cell_type": "code",
   "execution_count": 293,
   "metadata": {},
   "outputs": [],
   "source": [
    "import math"
   ]
  },
  {
   "cell_type": "code",
   "execution_count": 68,
   "metadata": {},
   "outputs": [],
   "source": [
    "class Node(object):\n",
    "\tdef __init__(self, val):\n",
    "\t\tself.val = val\n",
    "\t\tself.left = None\n",
    "\t\tself.right = None\n",
    "\n",
    "\tdef __str__(self):\n",
    "\t\treturn str(self.val)\n",
    "\t\t\n",
    "\n",
    "class BinarySearchTree(object):\n",
    "\tdef __init__(self):\n",
    "\t\tself.root = None\n",
    "\t\tself.totalNodes = 0\n",
    "\n",
    "\tdef insert(self,val):\n",
    "\t\tif not self.root: \n",
    "\t\t\tself.root = Node(val)\n",
    "\t\t\tself.totalNodes += 1\n",
    "\t\t\treturn True\n",
    "\t\telse:\n",
    "\t\t\tdef recursiveHelper(val, node = self.root):\n",
    "\t\t\t\tif val == node.val:\n",
    "\t\t\t\t\treturn False\n",
    "\n",
    "\t\t\t\tif not node.left and val < node.val:\n",
    "\t\t\t\t\tnode.left = Node(val)\n",
    "\t\t\t\t\treturn True\n",
    "\t\t\t\tif not node.right and val > node.val:\n",
    "\t\t\t\t\tnode.right = Node(val)\n",
    "\t\t\t\t\treturn True\n",
    "\n",
    "\t\t\t\tif val < node.val:\n",
    "\t\t\t\t\treturn recursiveHelper(val, node.left)\n",
    "\t\t\t\telse:\n",
    "\t\t\t\t\treturn recursiveHelper(val, node.right)\n",
    "\n",
    "\t\t\tout = recursiveHelper(val)\n",
    "\t\t\tif out:\n",
    "\t\t\t\tself.totalNodes += 1\n",
    "\t\t\treturn out\n",
    "\n",
    "\n",
    "\n",
    "\n",
    "\tdef insertIteratively(self, val):\n",
    "\t\tnew_node = Node(val)\n",
    "\n",
    "\t\tif not self.root:\n",
    "\t\t\tself.root = new_node\n",
    "\t\telse:\n",
    "\t\t\tnode = self.root\n",
    "\n",
    "\t\t\twhile True:\n",
    "\t\t\t\tif node.val == val: return False\n",
    "\n",
    "\t\t\t\tif val < node.val:\n",
    "\t\t\t\t\tif not node.left:\n",
    "\t\t\t\t\t\tnode.left = new_node\n",
    "\t\t\t\t\t\tbreak\n",
    "\t\t\t\t\telse: node = node.left\n",
    "\t\t\t\tif val > node.val:\n",
    "\t\t\t\t\tif not node.right:\n",
    "\t\t\t\t\t\tnode.right = new_node\n",
    "\t\t\t\t\t\tbreak\n",
    "\t\t\t\t\telse: node = node.right\n",
    "\n",
    "\t\tself.totalNodes += 1 \n",
    "\t\treturn True\n",
    "\n",
    "\n",
    "\n",
    "\tdef contains(self, val):\n",
    "\t\tif not self.root: return False\n",
    "\n",
    "\t\tdef recursiveHelper(val, node = self.root):\n",
    "\t\t\tif node.val == val: return True\n",
    "\n",
    "\t\t\tif val < node.val:\n",
    "\t\t\t\tif not node.left: return False\n",
    "\t\t\t\treturn recursiveHelper(val, node.left)\n",
    "\t\t\telse: \n",
    "\t\t\t\tif not node.right: return False\n",
    "\t\t\t\treturn recursiveHelper(val ,node.right)\n",
    "\n",
    "\n",
    "\t\treturn recursiveHelper(val)\n",
    "\n",
    "\tdef containsIterative(self, val):\n",
    "\t\tif not self.root: return False\n",
    "\t\tnode = self.root\n",
    "\n",
    "\t\twhile node:\n",
    "\t\t\tif node.val == val:return True\n",
    "\t\t\tif val < node.val:\n",
    "\t\t\t\tnode = node.left\n",
    "\t\t\telse:\n",
    "\t\t\t\tnode = node.right\n",
    "\n",
    "\t\treturn False\n",
    "\t\t\t\n",
    "\n",
    "\tdef isValid(self):\n",
    "\t\tif not self.root: return False\n",
    "\t\t\n",
    "\t\tdef DFS(node):\n",
    "\n",
    "\t\t\tif node.left:\n",
    "\t\t\t\tif node.val < node.left.val: return False\n",
    "\t\t\t\tif not DFS(node.left): return False\n",
    "\t\t\tif node.right:\n",
    "\t\t\t\tif node.val > node.right.val: return False\n",
    "\t\t\t\tif not DFS(node.right): return False\n",
    "\n",
    "\t\t\treturn True\n",
    "\n",
    "\t\treturn DFS(self.root)\n",
    "\n",
    "\tdef numMaxLevelsBreadth(self):\n",
    "\t\tif not self.root: return False\n",
    "\t\tqueue = [self.root]\n",
    "\n",
    "\t\tmax_levels = 1\n",
    "\n",
    "\t\twhile len(queue) != 0:\n",
    "\t\t\tlst = []\n",
    "\t\t\tfor i in queue:\n",
    "\t\t\t\tif i.left: lst.append(i.left)\n",
    "\t\t\t\tif i.right: lst.append(i.right)\n",
    "\t\t\tmax_levels = max(len(lst), max_levels)\n",
    "\t\t\tqueue = lst\n",
    "\n",
    "\t\treturn max_levels\n",
    "\n",
    "\tdef numMaxLevelsDepth(self):\n",
    "\t\tif not self.root: return False\n",
    "\n",
    "\t\tdef DFS(node, depth = 0):\n",
    "\t\t\tif not node: return depth\n",
    "\n",
    "\t\t\treturn max(DFS(node.left, depth + 1),DFS(node.right, depth + 1))\n",
    "\t\treturn DFS(self.root)\n",
    "\n",
    "\n",
    "\n",
    "\n",
    "\n",
    "\n",
    "\n",
    "\t\t\t\n",
    "\n",
    "\n",
    "\n",
    "\n"
   ]
  },
  {
   "cell_type": "code",
   "execution_count": 69,
   "metadata": {},
   "outputs": [],
   "source": [
    "BST = BinarySearchTree()"
   ]
  },
  {
   "cell_type": "code",
   "execution_count": 70,
   "metadata": {},
   "outputs": [
    {
     "data": {
      "text/plain": [
       "True"
      ]
     },
     "execution_count": 70,
     "metadata": {},
     "output_type": "execute_result"
    }
   ],
   "source": [
    "BST.insert(10)\n",
    "BST.insert(5)\n",
    "BST.insert(7)\n",
    "BST.insert(12)\n",
    "BST.insert(11)\n",
    "BST.insert(15)"
   ]
  },
  {
   "cell_type": "code",
   "execution_count": 89,
   "metadata": {},
   "outputs": [
    {
     "data": {
      "text/plain": [
       "True"
      ]
     },
     "execution_count": 89,
     "metadata": {},
     "output_type": "execute_result"
    }
   ],
   "source": [
    "BST.insert(30)"
   ]
  },
  {
   "cell_type": "code",
   "execution_count": 90,
   "metadata": {},
   "outputs": [
    {
     "data": {
      "text/plain": [
       "4"
      ]
     },
     "execution_count": 90,
     "metadata": {},
     "output_type": "execute_result"
    }
   ],
   "source": [
    "BST.numMaxLevelsBreadth()"
   ]
  },
  {
   "cell_type": "code",
   "execution_count": 91,
   "metadata": {},
   "outputs": [
    {
     "data": {
      "text/plain": [
       "6"
      ]
     },
     "execution_count": 91,
     "metadata": {},
     "output_type": "execute_result"
    }
   ],
   "source": [
    "BST.numMaxLevelsDepth()"
   ]
  },
  {
   "cell_type": "code",
   "execution_count": null,
   "metadata": {},
   "outputs": [],
   "source": []
  }
 ],
 "metadata": {
  "kernelspec": {
   "display_name": "Python 3",
   "language": "python",
   "name": "python3"
  },
  "language_info": {
   "codemirror_mode": {
    "name": "ipython",
    "version": 3
   },
   "file_extension": ".py",
   "mimetype": "text/x-python",
   "name": "python",
   "nbconvert_exporter": "python",
   "pygments_lexer": "ipython3",
   "version": "3.6.9"
  }
 },
 "nbformat": 4,
 "nbformat_minor": 2
}
